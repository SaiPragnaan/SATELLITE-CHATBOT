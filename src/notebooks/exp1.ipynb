{
 "cells": [
  {
   "cell_type": "code",
   "execution_count": 1,
   "metadata": {},
   "outputs": [],
   "source": [
    "SYSTEM_PROMPT = \"\"\"\n",
    "You are a Satellite Data Extraction Agent helping a user gather structured mission information about satellites.\n",
    "\n",
    "You can reason step-by-step, and when needed, you may use the following tools to search for reliable data:\n",
    "{tool_names}\n",
    "\n",
    "Your job is to:\n",
    "1. Think about what information is missing.\n",
    "2. Use ONE tool at a time to find facts. Do NOT guess.\n",
    "3. Extract structured mission information.\n",
    "4. Once everything is found, return ONLY the final output in strict JSON format.\n",
    "\n",
    "STRICT RULES:\n",
    "- Use tools only when necessary.\n",
    "- Never fabricate information.\n",
    "- Final answer must match the expected JSON schema exactly.\n",
    "- Always return \"null\" as a string if any information is not available.\n",
    "- Final output should be just the JSON block, nothing else.\n",
    "\n",
    "You are allowed to Think, Act, and Observe in steps before giving the final Answer.\n",
    "\"\"\""
   ]
  },
  {
   "cell_type": "code",
   "execution_count": 2,
   "metadata": {},
   "outputs": [
    {
     "data": {
      "text/plain": [
       "'AIMessage``json\\n{{\\n    \"mission_name\": \"Chandrayaan-3\"\\n    \"vehicle_type_name\": \"LVM-3\"\\n    \"altitude\": \"170 x 36500 km\"\\n    \"altitude_source_reference\": \"https://www.isro.gov.in/media_isro/pdf/Missions/LVM3/LVM3M4_Chandrayaan3_brochure.pdf\"\\n    \"orbital_life_years\": \"1\"\\n    \"orbital_life_source_reference\":\"https://www.isro.gov.in/media_isro/pdf/Missions/LVM3/LVM3M4_Chandrayaan3_brochure.pdf\"\\n    \"launch_orbit_classification\": \"GTO\"\\n    \"launch_orbit_source_reference\":\"https://www.isro.gov.in/Chandrayaan3_Details.html\"\\n    \"number_of_payloads\": \"7\"\\n    \"number_of_payloads_source_reference\":\"https://www.isro.gov.in/Chandrayaan3_Details.html\"\\n    \"satellite_type\": \"Science & Exploration\"\\n    \"application_description\": \"Lunar exploration mission to demonstrate soft landing and roving capabilities\"\\n    \"application_description_source_reference\":\"https://en.wikipedia.org/wiki/Chandrayaan-3\"\\n}}\\n1. mission_name: Extract the official mission name from authenticated and official sources.\\n2. vehicle_type_name: Find the launch vehicle name (e.g., PSLV, GSLV) near launch details.\\n3. altitude: Extract the orbit altitude in kilometers (look for numbers with \"km\" or \"kilometers\").\\n4. altitude_source_reference: Provide the URL where altitude was found.\\n5. orbital_life_years: Find mission duration or orbital life in years (convert if needed).\\n6. orbital_life_source_reference: Provide the URL where orbital life info was found.\\n7. launch_orbit_classification: Identify orbit type (e.g., LEO, SSO, GTO).\\n8. launch_orbit_source_reference: Provide the URL where orbit classification was found.\\n9. number_of_payloads: Count payloads/instruments mentioned.\\n10. number_of_payloads_source_reference: Provide the URL where payload count was found.\\n11. satellite_type: Classify as one of Communication, Earth Observation, Experimental, Navigation, or Science & Exploration based on mission purpose.\\n12. application_description: Summarize the main mission objective.\\n13. application_description_source_reference: Provide the URL where description was found.\\n``\\n'"
      ]
     },
     "execution_count": 2,
     "metadata": {},
     "output_type": "execute_result"
    }
   ],
   "source": [
    "\"\"\"\n",
    "Example 2:\n",
    "Input: Cartosat-3\n",
    "OUTPUT: \n",
    "```json\n",
    "{{\n",
    "    \"mission_name\": \"Cartosat-3\" \n",
    "    \"vehicle_type_name\": \"PSLV-C47\"\n",
    "    \"altitude\": \"509\"\n",
    "    \"orbital_life_years\": \"5\" \n",
    "    \"launch_orbit_classification\": \"SSO\"\n",
    "    \"number_of_payloads\": \"1\"\n",
    "    \"satellite_type\": \"Earth Observation\"\n",
    "    \"application_description\": \"High-resolution imaging satellite for cartographic applications\"\n",
    "}}\n",
    "```\"\"\"\n",
    "\n",
    "\"\"\"AIMessage``json\n",
    "{{\n",
    "    \"mission_name\": \"Chandrayaan-3\"\n",
    "    \"vehicle_type_name\": \"LVM-3\"\n",
    "    \"altitude\": \"170 x 36500 km\"\n",
    "    \"altitude_source_reference\": \"https://www.isro.gov.in/media_isro/pdf/Missions/LVM3/LVM3M4_Chandrayaan3_brochure.pdf\"\n",
    "    \"orbital_life_years\": \"1\"\n",
    "    \"orbital_life_source_reference\":\"https://www.isro.gov.in/media_isro/pdf/Missions/LVM3/LVM3M4_Chandrayaan3_brochure.pdf\"\n",
    "    \"launch_orbit_classification\": \"GTO\"\n",
    "    \"launch_orbit_source_reference\":\"https://www.isro.gov.in/Chandrayaan3_Details.html\"\n",
    "    \"number_of_payloads\": \"7\"\n",
    "    \"number_of_payloads_source_reference\":\"https://www.isro.gov.in/Chandrayaan3_Details.html\"\n",
    "    \"satellite_type\": \"Science & Exploration\"\n",
    "    \"application_description\": \"Lunar exploration mission to demonstrate soft landing and roving capabilities\"\n",
    "    \"application_description_source_reference\":\"https://en.wikipedia.org/wiki/Chandrayaan-3\"\n",
    "}}\n",
    "1. mission_name: Extract the official mission name from authenticated and official sources.\n",
    "2. vehicle_type_name: Find the launch vehicle name (e.g., PSLV, GSLV) near launch details.\n",
    "3. altitude: Extract the orbit altitude in kilometers (look for numbers with \"km\" or \"kilometers\").\n",
    "4. altitude_source_reference: Provide the URL where altitude was found.\n",
    "5. orbital_life_years: Find mission duration or orbital life in years (convert if needed).\n",
    "6. orbital_life_source_reference: Provide the URL where orbital life info was found.\n",
    "7. launch_orbit_classification: Identify orbit type (e.g., LEO, SSO, GTO).\n",
    "8. launch_orbit_source_reference: Provide the URL where orbit classification was found.\n",
    "9. number_of_payloads: Count payloads/instruments mentioned.\n",
    "10. number_of_payloads_source_reference: Provide the URL where payload count was found.\n",
    "11. satellite_type: Classify as one of Communication, Earth Observation, Experimental, Navigation, or Science & Exploration based on mission purpose.\n",
    "12. application_description: Summarize the main mission objective.\n",
    "13. application_description_source_reference: Provide the URL where description was found.\n",
    "``\n",
    "\"\"\""
   ]
  },
  {
   "cell_type": "code",
   "execution_count": 2,
   "metadata": {},
   "outputs": [],
   "source": [
    "BASIC_MISSION_PROMPT=\"\"\"\n",
    "You are a Satellite Data Extraction Agent that can use tools like web search to help you answer questions about satellite missions.\n",
    "\n",
    "\n",
    "INSTRUCTIONS FOR EXTRACTING EACH FIELD:\n",
    "1. altitude: Extract the orbit altitude in kilometers (look for numbers with \"km\" or \"kilometers\").\n",
    "2. altitude_source_reference: Provide the URL where altitude was found.\n",
    "3. orbital_life_years: Find mission duration or orbital life in years (convert if needed).\n",
    "4. orbital_life_source_reference: Provide the URL where orbital life info was found.\n",
    "5. launch_orbit_classification: Identify orbit type (e.g., LEO, SSO, GTO).\n",
    "6. launch_orbit_source_reference: Provide the URL where orbit classification was found.\n",
    "7. number_of_payloads: Count payloads/instruments mentioned.\n",
    "8. number_of_payloads_source_reference: Provide the URL where payload count was found.\n",
    "\n",
    "Here are some examples of correct responses (following the format above):\n",
    "\n",
    "Example :\n",
    "Input: Chandrayaan-3\n",
    "OUTPUT:\n",
    "json\n",
    "{{\n",
    "    \"altitude\": \"170 x 36500 km\"\n",
    "    \"altitude_source_reference\": \"https://www.isro.gov.in/media_isro/pdf/Missions/LVM3/LVM3M4_Chandrayaan3_brochure.pdf\"\n",
    "    \"orbital_life_years\": \"3 to 6 months\"\n",
    "    \"orbital_life_source_reference\":\"https://www.isro.gov.in/media_isro/pdf/Missions/LVM3/LVM3M4_Chandrayaan3_brochure.pdf\"\n",
    "    \"launch_orbit_classification\": \"GTO\"\n",
    "    \"launch_orbit_source_reference\":\"https://www.isro.gov.in/Chandrayaan3_Details.html\"\n",
    "    \"number_of_payloads\": \"7\"\n",
    "    \"number_of_payloads_source_reference\":\"https://www.isro.gov.in/Chandrayaan3_Details.html\"\n",
    "}}\n",
    "\n",
    "\n",
    "Now, extract information for {satellite_name} from the search results.\n",
    "IMPORTANT: \n",
    "1. Your response must follow the format instructions exactly\n",
    "2. Include the \n",
    "json and\n",
    " markers\n",
    "4. Use string values for all fields, even numbers\n",
    "5. If any information is not found, use \"null\" as the value\n",
    "6. Follow the extraction instructions carefully for each field\n",
    "After the tool provides the search results, use those results to fill in the requested fields in the specified JSON format. Return only the JSON in your response.\n",
    "\n",
    "{format_instructions}\n",
    "\n",
    "\"\"\""
   ]
  },
  {
   "cell_type": "code",
   "execution_count": 3,
   "metadata": {},
   "outputs": [],
   "source": [
    "SENSOR_TECH_PROMPT = \"\"\"\n",
    "You are a Satellite Data Extraction Agent that can use tools like web search to help you answer questions about satellite sensor technologies and capabilities.\n",
    "\n",
    "INSTRUCTIONS FOR EXTRACTING EACH FIELD:\n",
    "1. sensor_specifications: Extract key technical details about the onboard sensors (e.g., sensor type, resolution, swath width, revisit time, etc.).\n",
    "2. sensor_specifications_source_reference: Provide the URL where sensor specifications were found.\n",
    "3. spectral_bands: Mention the spectral bands covered by the satellite sensors (e.g., visible, near-infrared, thermal, X-band, etc.).\n",
    "4. spectral_bands_source_reference: Provide the URL where the spectral band information was found.\n",
    "5. spatial_resolution: Mention the spatial resolution of the satellite sensors (e.g., 1 meter, 10 meter, 20 meter, etc.).\n",
    "6. spatial_resolution_source_reference: Provide the URL where the spatial resolution information was found.\n",
    "7. technological_breakthroughs: Describe any notable innovations, new technologies, or unique engineering features introduced in this mission.\n",
    "8. technological_breakthroughs_source_reference: Provide the URL where the technological breakthroughs were found.\n",
    "9. satellite_type: Classify the satellite as one of the following based on its mission purpose: Communication, Earth Observation, Experimental, Navigation, or Science & Exploration.\n",
    "\n",
    "Here is an example of correct responses (following the format above):\n",
    "\n",
    "Example:  \n",
    "Input: RISAT-2B  \n",
    "OUTPUT:\n",
    "```json\n",
    "{{\n",
    "    \"sensor_specifications\": \"X-band SAR with 1 meter resolution and day-night, all-weather imaging capability\",\n",
    "    \"sensor_specifications_source_reference\": \"https://www.isro.gov.in/risat-2b.html\",\n",
    "    \"spectral_bands\": \"X-band\",\n",
    "    \"spectral_bands_source_reference\": \"https://www.isro.gov.in/risat-2b.html\",\n",
    "    \"spatial_resolution\": \"1 meter\",\n",
    "    \"spatial_resolution_source_reference\": \"https://www.isro.gov.in/risat-2b.html\",\n",
    "    \"technological_breakthroughs\": \"Incorporation of indigenously developed radar technology and deployable radial rib antenna\",\n",
    "    \"technological_breakthroughs_source_reference\": \"https://www.thehindu.com/sci-tech/science/risat-2b-satellite-launched-by-isro/article27232106.ece\",\n",
    "    \"satellite_type\": \"Earth Observation\"\n",
    "}}\n",
    "```\n",
    "\n",
    "Now, extract information for {satellite_name} from the search results.\n",
    "IMPORTANT: \n",
    "1. Your response must follow the format instructions exactly\n",
    "2. Include the ```json and ``` markers\n",
    "4. Use string values for all fields, even numbers\n",
    "5. If any information is not found, use \"null\" as the value\n",
    "6. Follow the extraction instructions carefully for each field\n",
    "After the tool provides the search results, use those results to fill in the requested fields in the specified JSON format. Return only the JSON in your response.\n",
    "\n",
    "{format_instructions}\n",
    "\n",
    "\"\"\""
   ]
  },
  {
   "cell_type": "code",
   "execution_count": 74,
   "metadata": {},
   "outputs": [
    {
     "data": {
      "text/plain": [
       "True"
      ]
     },
     "execution_count": 74,
     "metadata": {},
     "output_type": "execute_result"
    }
   ],
   "source": [
    "import os\n",
    "from dotenv import load_dotenv\n",
    "\n",
    "load_dotenv()"
   ]
  },
  {
   "cell_type": "code",
   "execution_count": 10,
   "metadata": {},
   "outputs": [],
   "source": [
    "\n",
    "from langchain_core.prompts import ChatPromptTemplate, PromptTemplate\n",
    "from langchain_community.tools import TavilySearchResults, Tool\n",
    "from langchain.tools import tool\n",
    "\n",
    "from langgraph.graph import StateGraph, START, END, MessagesState\n",
    "from langgraph.graph.message import add_messages\n",
    "from langgraph.prebuilt import ToolNode,tools_condition\n",
    "\n",
    "from typing import Optional, List, TypedDict, Dict\n",
    "from typing_extensions import Annotated\n",
    "from pydantic import BaseModel, Field"
   ]
  },
  {
   "cell_type": "code",
   "execution_count": 11,
   "metadata": {},
   "outputs": [],
   "source": [
    "class BasicSatelliteData(BaseModel):\n",
    "    altitude: Optional[str] = Field(description=\"Satellite altitude in kilometers, look for values with 'km' or 'kilometers'\")\n",
    "    altitude_source_reference: Optional[str] = Field(description=\"Source URLs used to find the altitude.\")\n",
    "    orbital_life_years: Optional[str] = Field(description=\"Orbital life or mission duration in years.\")\n",
    "    orbital_life_source_reference: Optional[str] = Field(description=\"Source URLs used to find orbital life.\")\n",
    "    launch_orbit_classification: Optional[str] = Field(description=\"Orbit classification such as GTO, LEO, or SSO.\")\n",
    "    launch_orbit_source_reference: Optional[str] = Field(description=\"Source URLs used to find orbit classification.\")\n",
    "    number_of_payloads: Optional[str] = Field(description=\"Count of payloads or instruments on the satellite.\")\n",
    "    number_of_payloads_source_reference: Optional[str] = Field(description=\"Source URLs used to find the number of payloads.\")\n",
    "\n",
    "\n",
    "class TechnicalData(BaseModel):\n",
    "    sensor_specifications: Optional[List[str]]      # ----->>>>\n",
    "    sensor_specifications_source_reference: Optional[str] = Field(description=\"Source URLs used to find sensor specifications.\")\n",
    "    spectral_bands: Optional[List[str]] = Field(description=\"Spectral bands covered by the satellite sensors (e.g., visible, near-infrared, thermal, X-band, etc.).\")\n",
    "    spectral_bands_source_reference: Optional[str] = Field(description=\"Source URLs used to find spectral bands.\")\n",
    "    spatial_resolution: Optional[str] = Field(description=\"Spatial resolution of the satellite sensors (e.g., 1 meter, 10 meter, 20 meter, etc.).\")\n",
    "    spatial_resolution_source_reference: Optional[str] = Field(description=\"Source URLs used to find spatial resolution.\")\n",
    "    technological_breakthroughs: Optional[List[str]] = Field(description=\"Notable innovations, new technologies, or unique engineering features introduced in this mission.\")\n",
    "    tech_source_reference: Optional[str] = Field(description=\"Source URLs used to find technological breakthroughs.\")\n",
    "    satellite_type: Optional[str] = Field(description=\"Classify the satellite as one of the following based on its mission purpose: Communication, Earth Observation, Experimental, Navigation, or Science & Exploration.\")\n",
    "    \n",
    "class LaunchVehicleData(BaseModel):\n",
    "    max_launch_mass_leo: Optional[float]\n",
    "    max_launch_mass_reference: Optional[str]\n",
    "    actual_launch_mass: Optional[float]\n",
    "    actual_launch_mass_reference: Optional[str]\n",
    "    launch_success: Optional[bool]\n",
    "    vehicle_reusability: Optional[bool]\n",
    "    reusability_details: Optional[str]\n",
    "    reusability_source: Optional[str]\n",
    "\n",
    "class CostData(BaseModel):\n",
    "    mission_cost: Optional[Dict[str, float]]   # ----->>>>\n",
    "    cost_reference: Optional[str]\n",
    "    spacenext_launch_cost: Optional[float]\n",
    "    spacenext_cost_reference: Optional[str]"
   ]
  },
  {
   "cell_type": "code",
   "execution_count": 8,
   "metadata": {},
   "outputs": [],
   "source": [
    "class AgentState(MessagesState):\n",
    "    satellite_name:str\n",
    "    # current_step:str\n",
    "    basic_data: Optional[BasicSatelliteData]\n",
    "    technical_data: Optional[TechnicalData]\n",
    "    # launch_vehicle_data: Optional[LaunchVehicleData]\n",
    "    # cost_data: Optional[CostData]\n",
    "    # status:str\n",
    "    error_message: Optional[str]\n",
    "    # next: Optional[str] = None"
   ]
  },
  {
   "cell_type": "code",
   "execution_count": null,
   "metadata": {},
   "outputs": [],
   "source": []
  },
  {
   "cell_type": "code",
   "execution_count": 9,
   "metadata": {},
   "outputs": [
    {
     "name": "stdout",
     "output_type": "stream",
     "text": [
      "Format Instructions:\n",
      "The output should be formatted as a JSON instance that conforms to the JSON schema below.\n",
      "\n",
      "As an example, for the schema {\"properties\": {\"foo\": {\"title\": \"Foo\", \"description\": \"a list of strings\", \"type\": \"array\", \"items\": {\"type\": \"string\"}}}, \"required\": [\"foo\"]}\n",
      "the object {\"foo\": [\"bar\", \"baz\"]} is a well-formatted instance of the schema. The object {\"properties\": {\"foo\": [\"bar\", \"baz\"]}} is not well-formatted.\n",
      "\n",
      "Here is the output schema:\n",
      "```\n",
      "{\"properties\": {\"altitude\": {\"anyOf\": [{\"type\": \"string\"}, {\"type\": \"null\"}], \"description\": \"Satellite altitude in kilometers, look for values with 'km' or 'kilometers'\", \"title\": \"Altitude\"}, \"altitude_source_reference\": {\"anyOf\": [{\"type\": \"string\"}, {\"type\": \"null\"}], \"description\": \"Source URLs used to find the altitude.\", \"title\": \"Altitude Source Reference\"}, \"orbital_life_years\": {\"anyOf\": [{\"type\": \"string\"}, {\"type\": \"null\"}], \"description\": \"Orbital life or mission duration in years.\", \"title\": \"Orbital Life Years\"}, \"orbital_life_source_reference\": {\"anyOf\": [{\"type\": \"string\"}, {\"type\": \"null\"}], \"description\": \"Source URLs used to find orbital life.\", \"title\": \"Orbital Life Source Reference\"}, \"launch_orbit_classification\": {\"anyOf\": [{\"type\": \"string\"}, {\"type\": \"null\"}], \"description\": \"Orbit classification such as GTO, LEO, or SSO.\", \"title\": \"Launch Orbit Classification\"}, \"launch_orbit_source_reference\": {\"anyOf\": [{\"type\": \"string\"}, {\"type\": \"null\"}], \"description\": \"Source URLs used to find orbit classification.\", \"title\": \"Launch Orbit Source Reference\"}, \"number_of_payloads\": {\"anyOf\": [{\"type\": \"string\"}, {\"type\": \"null\"}], \"description\": \"Count of payloads or instruments on the satellite.\", \"title\": \"Number Of Payloads\"}, \"number_of_payloads_source_reference\": {\"anyOf\": [{\"type\": \"string\"}, {\"type\": \"null\"}], \"description\": \"Source URLs used to find the number of payloads.\", \"title\": \"Number Of Payloads Source Reference\"}}, \"required\": [\"altitude\", \"altitude_source_reference\", \"orbital_life_years\", \"orbital_life_source_reference\", \"launch_orbit_classification\", \"launch_orbit_source_reference\", \"number_of_payloads\", \"number_of_payloads_source_reference\"]}\n",
      "```\n",
      "The output should be formatted as a JSON instance that conforms to the JSON schema below.\n",
      "\n",
      "As an example, for the schema {\"properties\": {\"foo\": {\"title\": \"Foo\", \"description\": \"a list of strings\", \"type\": \"array\", \"items\": {\"type\": \"string\"}}}, \"required\": [\"foo\"]}\n",
      "the object {\"foo\": [\"bar\", \"baz\"]} is a well-formatted instance of the schema. The object {\"properties\": {\"foo\": [\"bar\", \"baz\"]}} is not well-formatted.\n",
      "\n",
      "Here is the output schema:\n",
      "```\n",
      "{\"properties\": {\"sensor_specifications\": {\"anyOf\": [{\"items\": {\"type\": \"string\"}, \"type\": \"array\"}, {\"type\": \"null\"}], \"title\": \"Sensor Specifications\"}, \"sensor_specifications_source_reference\": {\"anyOf\": [{\"type\": \"string\"}, {\"type\": \"null\"}], \"description\": \"Source URLs used to find sensor specifications.\", \"title\": \"Sensor Specifications Source Reference\"}, \"spectral_bands\": {\"anyOf\": [{\"items\": {\"type\": \"string\"}, \"type\": \"array\"}, {\"type\": \"null\"}], \"description\": \"Spectral bands covered by the satellite sensors (e.g., visible, near-infrared, thermal, X-band, etc.).\", \"title\": \"Spectral Bands\"}, \"spectral_bands_source_reference\": {\"anyOf\": [{\"type\": \"string\"}, {\"type\": \"null\"}], \"description\": \"Source URLs used to find spectral bands.\", \"title\": \"Spectral Bands Source Reference\"}, \"spatial_resolution\": {\"anyOf\": [{\"type\": \"string\"}, {\"type\": \"null\"}], \"description\": \"Spatial resolution of the satellite sensors (e.g., 1 meter, 10 meter, 20 meter, etc.).\", \"title\": \"Spatial Resolution\"}, \"spatial_resolution_source_reference\": {\"anyOf\": [{\"type\": \"string\"}, {\"type\": \"null\"}], \"description\": \"Source URLs used to find spatial resolution.\", \"title\": \"Spatial Resolution Source Reference\"}, \"technological_breakthroughs\": {\"anyOf\": [{\"items\": {\"type\": \"string\"}, \"type\": \"array\"}, {\"type\": \"null\"}], \"description\": \"Notable innovations, new technologies, or unique engineering features introduced in this mission.\", \"title\": \"Technological Breakthroughs\"}, \"tech_source_reference\": {\"anyOf\": [{\"type\": \"string\"}, {\"type\": \"null\"}], \"description\": \"Source URLs used to find technological breakthroughs.\", \"title\": \"Tech Source Reference\"}, \"satellite_type\": {\"anyOf\": [{\"type\": \"string\"}, {\"type\": \"null\"}], \"description\": \"Classify the satellite as one of the following based on its mission purpose: Communication, Earth Observation, Experimental, Navigation, or Science & Exploration.\", \"title\": \"Satellite Type\"}}, \"required\": [\"sensor_specifications\", \"sensor_specifications_source_reference\", \"spectral_bands\", \"spectral_bands_source_reference\", \"spatial_resolution\", \"spatial_resolution_source_reference\", \"technological_breakthroughs\", \"tech_source_reference\", \"satellite_type\"]}\n",
      "```\n"
     ]
    }
   ],
   "source": [
    "from langchain.output_parsers import StructuredOutputParser, ResponseSchema,PydanticOutputParser\n",
    "\n",
    "basic_data_output_parser = PydanticOutputParser(pydantic_object=BasicSatelliteData)\n",
    "basic_data_format_instructions = basic_data_output_parser.get_format_instructions()\n",
    "\n",
    "technical_data_output_parser = PydanticOutputParser(pydantic_object=TechnicalData)\n",
    "technical_data_format_instructions = technical_data_output_parser.get_format_instructions()\n",
    "\n",
    "print(\"Format Instructions:\")\n",
    "print(basic_data_format_instructions)\n",
    "print(technical_data_format_instructions)"
   ]
  },
  {
   "cell_type": "code",
   "execution_count": 10,
   "metadata": {},
   "outputs": [],
   "source": [
    "satellite_name=\"Aditya-L1\""
   ]
  },
  {
   "cell_type": "code",
   "execution_count": 11,
   "metadata": {},
   "outputs": [],
   "source": [
    "from langchain_community.tools import TavilySearchResults, GoogleSerperResults,DuckDuckGoSearchResults\n",
    "from langchain_community.utilities import GoogleSerperAPIWrapper,DuckDuckGoSearchAPIWrapper\n",
    "from langchain_community.utilities.serpapi import SerpAPIWrapper\n",
    "\n",
    "serper_tool=GoogleSerperResults(api_wrapper=GoogleSerperAPIWrapper())\n",
    "tavily_tool = TavilySearchResults()\n",
    "duckduckgo_tool=DuckDuckGoSearchResults(api_wrapper=DuckDuckGoSearchAPIWrapper())\n",
    "tools=[serper_tool, tavily_tool,duckduckgo_tool]"
   ]
  },
  {
   "cell_type": "code",
   "execution_count": 12,
   "metadata": {},
   "outputs": [],
   "source": [
    "tool_names=[tool.name for tool in tools]\n",
    "tool_node=ToolNode(tools=tools)"
   ]
  },
  {
   "cell_type": "code",
   "execution_count": 13,
   "metadata": {},
   "outputs": [],
   "source": [
    "from langchain.prompts import ChatPromptTemplate,SystemMessagePromptTemplate,HumanMessagePromptTemplate\n",
    "\n",
    "system_msg=SystemMessagePromptTemplate.from_template(SYSTEM_PROMPT)\n",
    "human_msg=HumanMessagePromptTemplate.from_template(BASIC_MISSION_PROMPT)\n",
    "\n",
    "basic_info_prompt=ChatPromptTemplate.from_messages([system_msg,human_msg])"
   ]
  },
  {
   "cell_type": "code",
   "execution_count": 14,
   "metadata": {},
   "outputs": [],
   "source": [
    "from langchain_core.messages import BaseMessage,SystemMessage,HumanMessage,AIMessage,ToolMessage"
   ]
  },
  {
   "cell_type": "code",
   "execution_count": 75,
   "metadata": {},
   "outputs": [],
   "source": [
    "from langchain_groq import ChatGroq\n",
    "\n",
    "llm=ChatGroq(model=\"llama-3.3-70b-versatile\")"
   ]
  },
  {
   "cell_type": "code",
   "execution_count": 76,
   "metadata": {},
   "outputs": [],
   "source": [
    "llm_with_tools=llm.bind_tools(tools)"
   ]
  },
  {
   "cell_type": "code",
   "execution_count": 77,
   "metadata": {},
   "outputs": [],
   "source": [
    "from langchain_core.output_parsers import JsonOutputParser"
   ]
  },
  {
   "cell_type": "code",
   "execution_count": 78,
   "metadata": {},
   "outputs": [],
   "source": [
    "def basic_info_chatbot_node(state: AgentState):\n",
    "    try:\n",
    "        print(\"---Getting Basic Info---\")\n",
    "        response = llm_with_tools.invoke(state[\"messages\"])\n",
    "        print(response)\n",
    "        return {\"messages\": state[\"messages\"]+[response]}\n",
    "    except Exception as e:\n",
    "        return {\"error_message\": str(e)}\n",
    "\n",
    "def format_basic_node(state: AgentState):\n",
    "    # print(\"Basic Output:\\n\", state[\"messages\"][-1].content)\n",
    "    print(\"---Formatting Basic Info---\")\n",
    "    parser = JsonOutputParser()\n",
    "    parsed = parser.parse(state[\"messages\"][-1].content)\n",
    "    return {\"basic_data\": parsed}"
   ]
  },
  {
   "cell_type": "code",
   "execution_count": 79,
   "metadata": {},
   "outputs": [],
   "source": [
    "def technical_info_chatbot_node(state: AgentState):\n",
    "    try:\n",
    "        print(\"---Getting Technical Info---\")\n",
    "        response = llm_with_tools.invoke(state[\"messages\"])\n",
    "        return {\"messages\": state[\"messages\"]+[response]}\n",
    "    except Exception as e:\n",
    "        return {\"error_message\": str(e)}\n",
    "\n",
    "def format_technical_node(state: AgentState):\n",
    "    print(\"---Formatting Technical Info---\")\n",
    "    parser = JsonOutputParser()\n",
    "    parsed = parser.parse(state[\"messages\"][-1].content)\n",
    "    return {\"technical_data\": parsed}"
   ]
  },
  {
   "cell_type": "code",
   "execution_count": 80,
   "metadata": {},
   "outputs": [],
   "source": [
    "def route_basic(state: AgentState):\n",
    "    if not state[\"messages\"][-1].tool_calls:\n",
    "        return \"format\"\n",
    "    else:\n",
    "        return \"basic_tools\"\n",
    "\n",
    "def route_technical(state: AgentState):\n",
    "    if not state[\"messages\"][-1].tool_calls:\n",
    "        return \"format\"\n",
    "    else:\n",
    "        return \"technical_tools\""
   ]
  },
  {
   "cell_type": "code",
   "execution_count": 81,
   "metadata": {},
   "outputs": [],
   "source": [
    "def prep_technical_node(state: AgentState):\n",
    "    print(\"---Preparing Technical Info---\")\n",
    "    satellite_name = state[\"satellite_name\"]\n",
    "    sys_msg = SystemMessage(content=SYSTEM_PROMPT.format(tool_names=tool_names))\n",
    "    human_msg = HumanMessage(content=SENSOR_TECH_PROMPT.format(\n",
    "        satellite_name=satellite_name,\n",
    "        format_instructions=technical_data_format_instructions\n",
    "    ))\n",
    "    return {\"messages\": [sys_msg, human_msg]}"
   ]
  },
  {
   "cell_type": "code",
   "execution_count": 82,
   "metadata": {},
   "outputs": [
    {
     "data": {
      "text/plain": [
       "<langgraph.graph.state.StateGraph at 0x7776abdc2d50>"
      ]
     },
     "execution_count": 82,
     "metadata": {},
     "output_type": "execute_result"
    }
   ],
   "source": [
    "graph_builder = StateGraph(AgentState)\n",
    "\n",
    "# 1. Basic Info Phase\n",
    "graph_builder.add_node(\"basic_info\", basic_info_chatbot_node)\n",
    "graph_builder.add_node(\"basic_tools\", tool_node)\n",
    "graph_builder.add_node(\"format_basic\", format_basic_node)\n",
    "\n",
    "graph_builder.add_edge(START, \"basic_info\")\n",
    "graph_builder.add_conditional_edges(\"basic_info\", route_basic, {\n",
    "    \"basic_tools\": \"basic_tools\",\n",
    "    \"format\": \"format_basic\"\n",
    "})\n",
    "graph_builder.add_edge(\"basic_tools\", \"basic_info\")\n",
    "graph_builder.add_edge(\"format_basic\", \"prep_technical\")\n",
    "\n",
    "# 2. Prep for Technical Phase\n",
    "graph_builder.add_node(\"prep_technical\", prep_technical_node)\n",
    "graph_builder.add_edge(\"prep_technical\", \"technical_info\")\n",
    "\n",
    "# 3. Technical Info Phase\n",
    "graph_builder.add_node(\"technical_info\", technical_info_chatbot_node)\n",
    "graph_builder.add_node(\"technical_tools\", tool_node)\n",
    "graph_builder.add_node(\"format_technical\", format_technical_node)\n",
    "\n",
    "graph_builder.add_conditional_edges(\"technical_info\", route_technical, {\n",
    "    \"technical_tools\": \"technical_tools\",\n",
    "    \"format\": \"format_technical\"\n",
    "})\n",
    "graph_builder.add_edge(\"technical_tools\", \"technical_info\")\n",
    "graph_builder.add_edge(\"format_technical\", END)\n"
   ]
  },
  {
   "cell_type": "code",
   "execution_count": 83,
   "metadata": {},
   "outputs": [],
   "source": [
    "graph_new=graph_builder.compile()"
   ]
  },
  {
   "cell_type": "code",
   "execution_count": 84,
   "metadata": {},
   "outputs": [
    {
     "data": {
      "image/png": "[encoded data removed]",
      "text/plain": [
       "<IPython.core.display.Image object>"
      ]
     },
     "metadata": {},
     "output_type": "display_data"
    }
   ],
   "source": [
    "from IPython.display import display,Image\n",
    "\n",
    "display(Image(graph_new.get_graph().draw_mermaid_png()))"
   ]
  },
  {
   "cell_type": "code",
   "execution_count": 85,
   "metadata": {},
   "outputs": [],
   "source": [
    "sys_msg = SystemMessage(content=SYSTEM_PROMPT.format(tool_names=tool_names))\n",
    "human_msg = HumanMessage(content=BASIC_MISSION_PROMPT.format(\n",
    "    satellite_name=satellite_name,\n",
    "    format_instructions=basic_data_format_instructions\n",
    "))\n",
    "\n",
    "input_state = {\n",
    "    \"satellite_name\": satellite_name,\n",
    "    \"messages\": [sys_msg, human_msg]\n",
    "}"
   ]
  },
  {
   "cell_type": "code",
   "execution_count": 86,
   "metadata": {},
   "outputs": [
    {
     "name": "stdout",
     "output_type": "stream",
     "text": [
      "---Getting Basic Info---\n"
     ]
    },
    {
     "ename": "AttributeError",
     "evalue": "'HumanMessage' object has no attribute 'tool_calls'",
     "output_type": "error",
     "traceback": [
      "\u001b[31m---------------------------------------------------------------------------\u001b[39m",
      "\u001b[31mAttributeError\u001b[39m                            Traceback (most recent call last)",
      "\u001b[36mCell\u001b[39m\u001b[36m \u001b[39m\u001b[32mIn[86]\u001b[39m\u001b[32m, line 1\u001b[39m\n\u001b[32m----> \u001b[39m\u001b[32m1\u001b[39m result = \u001b[43mgraph_new\u001b[49m\u001b[43m.\u001b[49m\u001b[43minvoke\u001b[49m\u001b[43m(\u001b[49m\u001b[38;5;28;43minput\u001b[39;49m\u001b[43m=\u001b[49m\u001b[43minput_state\u001b[49m\u001b[43m)\u001b[49m\n",
      "\u001b[36mFile \u001b[39m\u001b[32m~/Dev/CJBS-CHATBOT/venv/lib/python3.13/site-packages/langgraph/pregel/__init__.py:2719\u001b[39m, in \u001b[36mPregel.invoke\u001b[39m\u001b[34m(self, input, config, stream_mode, output_keys, interrupt_before, interrupt_after, checkpoint_during, debug, **kwargs)\u001b[39m\n\u001b[32m   2716\u001b[39m chunks: \u001b[38;5;28mlist\u001b[39m[Union[\u001b[38;5;28mdict\u001b[39m[\u001b[38;5;28mstr\u001b[39m, Any], Any]] = []\n\u001b[32m   2717\u001b[39m interrupts: \u001b[38;5;28mlist\u001b[39m[Interrupt] = []\n\u001b[32m-> \u001b[39m\u001b[32m2719\u001b[39m \u001b[43m\u001b[49m\u001b[38;5;28;43;01mfor\u001b[39;49;00m\u001b[43m \u001b[49m\u001b[43mchunk\u001b[49m\u001b[43m \u001b[49m\u001b[38;5;129;43;01min\u001b[39;49;00m\u001b[43m \u001b[49m\u001b[38;5;28;43mself\u001b[39;49m\u001b[43m.\u001b[49m\u001b[43mstream\u001b[49m\u001b[43m(\u001b[49m\n\u001b[32m   2720\u001b[39m \u001b[43m    \u001b[49m\u001b[38;5;28;43minput\u001b[39;49m\u001b[43m,\u001b[49m\n\u001b[32m   2721\u001b[39m \u001b[43m    \u001b[49m\u001b[43mconfig\u001b[49m\u001b[43m,\u001b[49m\n\u001b[32m   2722\u001b[39m \u001b[43m    \u001b[49m\u001b[43mstream_mode\u001b[49m\u001b[43m=\u001b[49m\u001b[43mstream_mode\u001b[49m\u001b[43m,\u001b[49m\n\u001b[32m   2723\u001b[39m \u001b[43m    \u001b[49m\u001b[43moutput_keys\u001b[49m\u001b[43m=\u001b[49m\u001b[43moutput_keys\u001b[49m\u001b[43m,\u001b[49m\n\u001b[32m   2724\u001b[39m \u001b[43m    \u001b[49m\u001b[43minterrupt_before\u001b[49m\u001b[43m=\u001b[49m\u001b[43minterrupt_before\u001b[49m\u001b[43m,\u001b[49m\n\u001b[32m   2725\u001b[39m \u001b[43m    \u001b[49m\u001b[43minterrupt_after\u001b[49m\u001b[43m=\u001b[49m\u001b[43minterrupt_after\u001b[49m\u001b[43m,\u001b[49m\n\u001b[32m   2726\u001b[39m \u001b[43m    \u001b[49m\u001b[43mcheckpoint_during\u001b[49m\u001b[43m=\u001b[49m\u001b[43mcheckpoint_during\u001b[49m\u001b[43m,\u001b[49m\n\u001b[32m   2727\u001b[39m \u001b[43m    \u001b[49m\u001b[43mdebug\u001b[49m\u001b[43m=\u001b[49m\u001b[43mdebug\u001b[49m\u001b[43m,\u001b[49m\n\u001b[32m   2728\u001b[39m \u001b[43m    \u001b[49m\u001b[43m*\u001b[49m\u001b[43m*\u001b[49m\u001b[43mkwargs\u001b[49m\u001b[43m,\u001b[49m\n\u001b[32m   2729\u001b[39m \u001b[43m\u001b[49m\u001b[43m)\u001b[49m\u001b[43m:\u001b[49m\n\u001b[32m   2730\u001b[39m \u001b[43m    \u001b[49m\u001b[38;5;28;43;01mif\u001b[39;49;00m\u001b[43m \u001b[49m\u001b[43mstream_mode\u001b[49m\u001b[43m \u001b[49m\u001b[43m==\u001b[49m\u001b[43m \u001b[49m\u001b[33;43m\"\u001b[39;49m\u001b[33;43mvalues\u001b[39;49m\u001b[33;43m\"\u001b[39;49m\u001b[43m:\u001b[49m\n\u001b[32m   2731\u001b[39m \u001b[43m        \u001b[49m\u001b[38;5;28;43;01mif\u001b[39;49;00m\u001b[43m \u001b[49m\u001b[43m(\u001b[49m\n\u001b[32m   2732\u001b[39m \u001b[43m            \u001b[49m\u001b[38;5;28;43misinstance\u001b[39;49m\u001b[43m(\u001b[49m\u001b[43mchunk\u001b[49m\u001b[43m,\u001b[49m\u001b[43m \u001b[49m\u001b[38;5;28;43mdict\u001b[39;49m\u001b[43m)\u001b[49m\n\u001b[32m   2733\u001b[39m \u001b[43m            \u001b[49m\u001b[38;5;129;43;01mand\u001b[39;49;00m\u001b[43m \u001b[49m\u001b[43m(\u001b[49m\u001b[43mints\u001b[49m\u001b[43m \u001b[49m\u001b[43m:=\u001b[49m\u001b[43m \u001b[49m\u001b[43mchunk\u001b[49m\u001b[43m.\u001b[49m\u001b[43mget\u001b[49m\u001b[43m(\u001b[49m\u001b[43mINTERRUPT\u001b[49m\u001b[43m)\u001b[49m\u001b[43m)\u001b[49m\u001b[43m \u001b[49m\u001b[38;5;129;43;01mis\u001b[39;49;00m\u001b[43m \u001b[49m\u001b[38;5;129;43;01mnot\u001b[39;49;00m\u001b[43m \u001b[49m\u001b[38;5;28;43;01mNone\u001b[39;49;00m\n\u001b[32m   2734\u001b[39m \u001b[43m        \u001b[49m\u001b[43m)\u001b[49m\u001b[43m:\u001b[49m\n",
      "\u001b[36mFile \u001b[39m\u001b[32m~/Dev/CJBS-CHATBOT/venv/lib/python3.13/site-packages/langgraph/pregel/__init__.py:2436\u001b[39m, in \u001b[36mPregel.stream\u001b[39m\u001b[34m(self, input, config, stream_mode, output_keys, interrupt_before, interrupt_after, checkpoint_during, debug, subgraphs)\u001b[39m\n\u001b[32m   2434\u001b[39m         \u001b[38;5;28;01mfor\u001b[39;00m task \u001b[38;5;129;01min\u001b[39;00m loop.match_cached_writes():\n\u001b[32m   2435\u001b[39m             loop.output_writes(task.id, task.writes, cached=\u001b[38;5;28;01mTrue\u001b[39;00m)\n\u001b[32m-> \u001b[39m\u001b[32m2436\u001b[39m \u001b[43m        \u001b[49m\u001b[38;5;28;43;01mfor\u001b[39;49;00m\u001b[43m \u001b[49m\u001b[43m_\u001b[49m\u001b[43m \u001b[49m\u001b[38;5;129;43;01min\u001b[39;49;00m\u001b[43m \u001b[49m\u001b[43mrunner\u001b[49m\u001b[43m.\u001b[49m\u001b[43mtick\u001b[49m\u001b[43m(\u001b[49m\n\u001b[32m   2437\u001b[39m \u001b[43m            \u001b[49m\u001b[43m[\u001b[49m\u001b[43mt\u001b[49m\u001b[43m \u001b[49m\u001b[38;5;28;43;01mfor\u001b[39;49;00m\u001b[43m \u001b[49m\u001b[43mt\u001b[49m\u001b[43m \u001b[49m\u001b[38;5;129;43;01min\u001b[39;49;00m\u001b[43m \u001b[49m\u001b[43mloop\u001b[49m\u001b[43m.\u001b[49m\u001b[43mtasks\u001b[49m\u001b[43m.\u001b[49m\u001b[43mvalues\u001b[49m\u001b[43m(\u001b[49m\u001b[43m)\u001b[49m\u001b[43m \u001b[49m\u001b[38;5;28;43;01mif\u001b[39;49;00m\u001b[43m \u001b[49m\u001b[38;5;129;43;01mnot\u001b[39;49;00m\u001b[43m \u001b[49m\u001b[43mt\u001b[49m\u001b[43m.\u001b[49m\u001b[43mwrites\u001b[49m\u001b[43m]\u001b[49m\u001b[43m,\u001b[49m\n\u001b[32m   2438\u001b[39m \u001b[43m            \u001b[49m\u001b[43mtimeout\u001b[49m\u001b[43m=\u001b[49m\u001b[38;5;28;43mself\u001b[39;49m\u001b[43m.\u001b[49m\u001b[43mstep_timeout\u001b[49m\u001b[43m,\u001b[49m\n\u001b[32m   2439\u001b[39m \u001b[43m            \u001b[49m\u001b[43mget_waiter\u001b[49m\u001b[43m=\u001b[49m\u001b[43mget_waiter\u001b[49m\u001b[43m,\u001b[49m\n\u001b[32m   2440\u001b[39m \u001b[43m            \u001b[49m\u001b[43mschedule_task\u001b[49m\u001b[43m=\u001b[49m\u001b[43mloop\u001b[49m\u001b[43m.\u001b[49m\u001b[43maccept_push\u001b[49m\u001b[43m,\u001b[49m\n\u001b[32m   2441\u001b[39m \u001b[43m        \u001b[49m\u001b[43m)\u001b[49m\u001b[43m:\u001b[49m\n\u001b[32m   2442\u001b[39m \u001b[43m            \u001b[49m\u001b[38;5;66;43;03m# emit output\u001b[39;49;00m\n\u001b[32m   2443\u001b[39m \u001b[43m            \u001b[49m\u001b[38;5;28;43;01myield from\u001b[39;49;00m\u001b[43m \u001b[49m\u001b[43moutput\u001b[49m\u001b[43m(\u001b[49m\u001b[43m)\u001b[49m\n\u001b[32m   2444\u001b[39m \u001b[38;5;66;03m# emit output\u001b[39;00m\n",
      "\u001b[36mFile \u001b[39m\u001b[32m~/Dev/CJBS-CHATBOT/venv/lib/python3.13/site-packages/langgraph/graph/branch.py:173\u001b[39m, in \u001b[36mBranch._route\u001b[39m\u001b[34m(self, input, config, reader, writer)\u001b[39m\n\u001b[32m    171\u001b[39m \u001b[38;5;28;01melse\u001b[39;00m:\n\u001b[32m    172\u001b[39m     value = \u001b[38;5;28minput\u001b[39m\n\u001b[32m--> \u001b[39m\u001b[32m173\u001b[39m result = \u001b[38;5;28;43mself\u001b[39;49m\u001b[43m.\u001b[49m\u001b[43mpath\u001b[49m\u001b[43m.\u001b[49m\u001b[43minvoke\u001b[49m\u001b[43m(\u001b[49m\u001b[43mvalue\u001b[49m\u001b[43m,\u001b[49m\u001b[43m \u001b[49m\u001b[43mconfig\u001b[49m\u001b[43m)\u001b[49m\n\u001b[32m    174\u001b[39m \u001b[38;5;28;01mreturn\u001b[39;00m \u001b[38;5;28mself\u001b[39m._finish(writer, \u001b[38;5;28minput\u001b[39m, result, config)\n",
      "\u001b[36mFile \u001b[39m\u001b[32m~/Dev/CJBS-CHATBOT/venv/lib/python3.13/site-packages/langgraph/utils/runnable.py:370\u001b[39m, in \u001b[36mRunnableCallable.invoke\u001b[39m\u001b[34m(self, input, config, **kwargs)\u001b[39m\n\u001b[32m    368\u001b[39m     \u001b[38;5;66;03m# run in context\u001b[39;00m\n\u001b[32m    369\u001b[39m     \u001b[38;5;28;01mwith\u001b[39;00m set_config_context(child_config, run) \u001b[38;5;28;01mas\u001b[39;00m context:\n\u001b[32m--> \u001b[39m\u001b[32m370\u001b[39m         ret = \u001b[43mcontext\u001b[49m\u001b[43m.\u001b[49m\u001b[43mrun\u001b[49m\u001b[43m(\u001b[49m\u001b[38;5;28;43mself\u001b[39;49m\u001b[43m.\u001b[49m\u001b[43mfunc\u001b[49m\u001b[43m,\u001b[49m\u001b[43m \u001b[49m\u001b[43m*\u001b[49m\u001b[43margs\u001b[49m\u001b[43m,\u001b[49m\u001b[43m \u001b[49m\u001b[43m*\u001b[49m\u001b[43m*\u001b[49m\u001b[43mkwargs\u001b[49m\u001b[43m)\u001b[49m\n\u001b[32m    371\u001b[39m \u001b[38;5;28;01mexcept\u001b[39;00m \u001b[38;5;167;01mBaseException\u001b[39;00m \u001b[38;5;28;01mas\u001b[39;00m e:\n\u001b[32m    372\u001b[39m     run_manager.on_chain_error(e)\n",
      "\u001b[36mCell\u001b[39m\u001b[36m \u001b[39m\u001b[32mIn[80]\u001b[39m\u001b[32m, line 2\u001b[39m, in \u001b[36mroute_basic\u001b[39m\u001b[34m(state)\u001b[39m\n\u001b[32m      1\u001b[39m \u001b[38;5;28;01mdef\u001b[39;00m\u001b[38;5;250m \u001b[39m\u001b[34mroute_basic\u001b[39m(state: AgentState):\n\u001b[32m----> \u001b[39m\u001b[32m2\u001b[39m     \u001b[38;5;28;01mif\u001b[39;00m \u001b[38;5;129;01mnot\u001b[39;00m \u001b[43mstate\u001b[49m\u001b[43m[\u001b[49m\u001b[33;43m\"\u001b[39;49m\u001b[33;43mmessages\u001b[39;49m\u001b[33;43m\"\u001b[39;49m\u001b[43m]\u001b[49m\u001b[43m[\u001b[49m\u001b[43m-\u001b[49m\u001b[32;43m1\u001b[39;49m\u001b[43m]\u001b[49m\u001b[43m.\u001b[49m\u001b[43mtool_calls\u001b[49m:\n\u001b[32m      3\u001b[39m         \u001b[38;5;28;01mreturn\u001b[39;00m \u001b[33m\"\u001b[39m\u001b[33mformat\u001b[39m\u001b[33m\"\u001b[39m\n\u001b[32m      4\u001b[39m     \u001b[38;5;28;01melse\u001b[39;00m:\n",
      "\u001b[36mFile \u001b[39m\u001b[32m~/Dev/CJBS-CHATBOT/venv/lib/python3.13/site-packages/pydantic/main.py:991\u001b[39m, in \u001b[36mBaseModel.__getattr__\u001b[39m\u001b[34m(self, item)\u001b[39m\n\u001b[32m    988\u001b[39m     \u001b[38;5;28;01mreturn\u001b[39;00m \u001b[38;5;28msuper\u001b[39m().\u001b[34m__getattribute__\u001b[39m(item)  \u001b[38;5;66;03m# Raises AttributeError if appropriate\u001b[39;00m\n\u001b[32m    989\u001b[39m \u001b[38;5;28;01melse\u001b[39;00m:\n\u001b[32m    990\u001b[39m     \u001b[38;5;66;03m# this is the current error\u001b[39;00m\n\u001b[32m--> \u001b[39m\u001b[32m991\u001b[39m     \u001b[38;5;28;01mraise\u001b[39;00m \u001b[38;5;167;01mAttributeError\u001b[39;00m(\u001b[33mf\u001b[39m\u001b[33m'\u001b[39m\u001b[38;5;132;01m{\u001b[39;00m\u001b[38;5;28mtype\u001b[39m(\u001b[38;5;28mself\u001b[39m).\u001b[34m__name__\u001b[39m\u001b[38;5;132;01m!r}\u001b[39;00m\u001b[33m object has no attribute \u001b[39m\u001b[38;5;132;01m{\u001b[39;00mitem\u001b[38;5;132;01m!r}\u001b[39;00m\u001b[33m'\u001b[39m)\n",
      "\u001b[31mAttributeError\u001b[39m: 'HumanMessage' object has no attribute 'tool_calls'",
      "During task with name 'basic_info' and id '5112551e-2615-bb46-55d6-45c8b6fa46b3'"
     ]
    }
   ],
   "source": [
    "result = graph_new.invoke(input=input_state)"
   ]
  },
  {
   "cell_type": "code",
   "execution_count": 141,
   "metadata": {},
   "outputs": [
    {
     "ename": "KeyError",
     "evalue": "'technical_data'",
     "output_type": "error",
     "traceback": [
      "\u001b[31m---------------------------------------------------------------------------\u001b[39m",
      "\u001b[31mKeyError\u001b[39m                                  Traceback (most recent call last)",
      "\u001b[36mCell\u001b[39m\u001b[36m \u001b[39m\u001b[32mIn[141]\u001b[39m\u001b[32m, line 1\u001b[39m\n\u001b[32m----> \u001b[39m\u001b[32m1\u001b[39m \u001b[43mresult\u001b[49m\u001b[43m[\u001b[49m\u001b[33;43m\"\u001b[39;49m\u001b[33;43mtechnical_data\u001b[39;49m\u001b[33;43m\"\u001b[39;49m\u001b[43m]\u001b[49m\n",
      "\u001b[31mKeyError\u001b[39m: 'technical_data'"
     ]
    }
   ],
   "source": [
    "result[\"technical_data\"]"
   ]
  },
  {
   "cell_type": "code",
   "execution_count": 92,
   "metadata": {},
   "outputs": [
    {
     "data": {
      "image/png": "[encoded data removed]",
      "text/plain": [
       "<IPython.core.display.Image object>"
      ]
     },
     "metadata": {},
     "output_type": "display_data"
    }
   ],
   "source": [
    "from IPython.display import display,Image\n",
    "\n",
    "display(Image(graph.get_graph().draw_mermaid_png()))"
   ]
  },
  {
   "cell_type": "code",
   "execution_count": 27,
   "metadata": {},
   "outputs": [],
   "source": [
    "from langchain_core.messages import BaseMessage,SystemMessage,HumanMessage,AIMessage,ToolMessage\n",
    "\n",
    "class AgentState(BaseModel):\n",
    "    satellite_name: str\n",
    "    error_message: Optional[str] = None\n",
    "    messages: Annotated[list[BaseMessage], add_messages]"
   ]
  },
  {
   "cell_type": "code",
   "execution_count": 28,
   "metadata": {},
   "outputs": [],
   "source": [
    "\n",
    "def initialize_state(satellite_name: str) -> AgentState:\n",
    "    sys_msg = SystemMessage(content=SYSTEM_PROMPT.format(tool_names=tool_names))\n",
    "    human_msg = HumanMessage(content=BASIC_MISSION_PROMPT.format(satellite_name=satellite_name, format_instructions=format_instructions))\n",
    "    \n",
    "    return AgentState(\n",
    "        satellite_name=satellite_name,\n",
    "        error_message=None,\n",
    "        messages=[sys_msg, human_msg]\n",
    "    )"
   ]
  },
  {
   "cell_type": "code",
   "execution_count": 29,
   "metadata": {},
   "outputs": [],
   "source": [
    "initial_state = initialize_state(\"Aditya-L1\") "
   ]
  },
  {
   "cell_type": "code",
   "execution_count": 30,
   "metadata": {},
   "outputs": [],
   "source": [
    "def chatbot(state: AgentState):\n",
    "    try:\n",
    "        response = llm_with_tools.invoke(state.messages)\n",
    "        assert len(response.tool_calls) <= 1\n",
    "        return state.model_copy(update={\n",
    "            \"messages\": state.messages + [response],\n",
    "        })\n",
    "    except Exception as e:\n",
    "        return state.model_copy(update={\n",
    "            \"error_message\": str(e),\n",
    "        })\n"
   ]
  },
  {
   "cell_type": "code",
   "execution_count": 31,
   "metadata": {},
   "outputs": [
    {
     "data": {
      "text/plain": [
       "<langgraph.graph.state.StateGraph at 0x77da28cb07d0>"
      ]
     },
     "execution_count": 31,
     "metadata": {},
     "output_type": "execute_result"
    }
   ],
   "source": [
    "graph_builder=StateGraph(AgentState)\n",
    "graph_builder.add_node(\"chatbot\",chatbot)\n",
    "graph_builder.add_node(\"tools\",tool_node)\n",
    "graph_builder.add_edge(START,\"chatbot\")\n",
    "graph_builder.add_edge(\"tools\",\"chatbot\")\n",
    "graph_builder.add_edge(\"chatbot\",END)\n",
    "graph_builder.add_conditional_edges(\n",
    "    \"chatbot\",\n",
    "    tools_condition\n",
    ")"
   ]
  },
  {
   "cell_type": "code",
   "execution_count": 32,
   "metadata": {},
   "outputs": [],
   "source": [
    "graph=graph_builder.compile()"
   ]
  },
  {
   "cell_type": "code",
   "execution_count": 33,
   "metadata": {},
   "outputs": [
    {
     "data": {
      "image/png": "[encoded data removed]",
      "text/plain": [
       "<IPython.core.display.Image object>"
      ]
     },
     "metadata": {},
     "output_type": "display_data"
    }
   ],
   "source": [
    "display(Image(graph.get_graph().draw_mermaid_png()))"
   ]
  },
  {
   "cell_type": "code",
   "execution_count": 34,
   "metadata": {},
   "outputs": [],
   "source": [
    "result = graph.invoke(initial_state)"
   ]
  },
  {
   "cell_type": "code",
   "execution_count": 35,
   "metadata": {},
   "outputs": [
    {
     "name": "stdout",
     "output_type": "stream",
     "text": [
      "```json\n",
      "{\n",
      "\t\"altitude\": \"1.5 million km\",\n",
      "\t\"altitude_source_reference\": \"https://www.issdc.gov.in/adityal1.html\",\n",
      "\t\"orbital_life_years\": \"null\",\n",
      "\t\"orbital_life_source_reference\": \"null\",\n",
      "\t\"launch_orbit_classification\": \"Halo orbit around the Lagrangian point 1 (L1) of the Sun-Earth system\",\n",
      "\t\"launch_orbit_source_reference\": \"https://www.isro.gov.in/Aditya_L1.html\",\n",
      "\t\"number_of_payloads\": \"7\",\n",
      "\t\"number_of_payloads_source_reference\": \"https://www.issdc.gov.in/adityal1.html\"\n",
      "}\n",
      "```\n"
     ]
    }
   ],
   "source": [
    "print(result[\"messages\"][-1].content)"
   ]
  },
  {
   "cell_type": "code",
   "execution_count": 89,
   "metadata": {},
   "outputs": [],
   "source": [
    "class AgentState(BaseModel):\n",
    "    satellite_name: str\n",
    "    error_message: Optional[str] = None\n",
    "    messages: Annotated[list[BaseMessage], add_messages]"
   ]
  },
  {
   "cell_type": "code",
   "execution_count": 90,
   "metadata": {},
   "outputs": [],
   "source": [
    "from langgraph.prebuilt import create_react_agent"
   ]
  },
  {
   "cell_type": "code",
   "execution_count": 91,
   "metadata": {},
   "outputs": [],
   "source": [
    "from langchain_google_genai import ChatGoogleGenerativeAI\n",
    "llm=ChatGoogleGenerativeAI(model=\"gemini-1.5-flash\")"
   ]
  },
  {
   "cell_type": "code",
   "execution_count": 92,
   "metadata": {},
   "outputs": [
    {
     "data": {
      "image/png": "[encoded data removed]",
      "text/plain": [
       "<IPython.core.display.Image object>"
      ]
     },
     "metadata": {},
     "output_type": "display_data"
    }
   ],
   "source": [
    "agent=create_react_agent(\n",
    "    model=llm,\n",
    "    tools=tools\n",
    ")\n",
    "display(Image(agent.get_graph().draw_mermaid_png()))"
   ]
  },
  {
   "cell_type": "code",
   "execution_count": 93,
   "metadata": {},
   "outputs": [
    {
     "ename": "InvalidUpdateError",
     "evalue": "Expected dict, got <bound method Kernel.raw_input of <ipykernel.ipkernel.IPythonKernel object at 0x7776d402a660>>\nFor troubleshooting, visit: https://python.langchain.com/docs/troubleshooting/errors/INVALID_GRAPH_NODE_RETURN_VALUE",
     "output_type": "error",
     "traceback": [
      "\u001b[31m---------------------------------------------------------------------------\u001b[39m",
      "\u001b[31mInvalidUpdateError\u001b[39m                        Traceback (most recent call last)",
      "\u001b[36mCell\u001b[39m\u001b[36m \u001b[39m\u001b[32mIn[93]\u001b[39m\u001b[32m, line 1\u001b[39m\n\u001b[32m----> \u001b[39m\u001b[32m1\u001b[39m result=\u001b[43magent\u001b[49m\u001b[43m.\u001b[49m\u001b[43minvoke\u001b[49m\u001b[43m(\u001b[49m\u001b[38;5;28;43minput\u001b[39;49m\u001b[43m=\u001b[49m\u001b[38;5;28;43minput\u001b[39;49m\u001b[43m)\u001b[49m\n",
      "\u001b[36mFile \u001b[39m\u001b[32m~/Dev/CJBS-CHATBOT/venv/lib/python3.13/site-packages/langgraph/pregel/__init__.py:2719\u001b[39m, in \u001b[36mPregel.invoke\u001b[39m\u001b[34m(self, input, config, stream_mode, output_keys, interrupt_before, interrupt_after, checkpoint_during, debug, **kwargs)\u001b[39m\n\u001b[32m   2716\u001b[39m chunks: \u001b[38;5;28mlist\u001b[39m[Union[\u001b[38;5;28mdict\u001b[39m[\u001b[38;5;28mstr\u001b[39m, Any], Any]] = []\n\u001b[32m   2717\u001b[39m interrupts: \u001b[38;5;28mlist\u001b[39m[Interrupt] = []\n\u001b[32m-> \u001b[39m\u001b[32m2719\u001b[39m \u001b[43m\u001b[49m\u001b[38;5;28;43;01mfor\u001b[39;49;00m\u001b[43m \u001b[49m\u001b[43mchunk\u001b[49m\u001b[43m \u001b[49m\u001b[38;5;129;43;01min\u001b[39;49;00m\u001b[43m \u001b[49m\u001b[38;5;28;43mself\u001b[39;49m\u001b[43m.\u001b[49m\u001b[43mstream\u001b[49m\u001b[43m(\u001b[49m\n\u001b[32m   2720\u001b[39m \u001b[43m    \u001b[49m\u001b[38;5;28;43minput\u001b[39;49m\u001b[43m,\u001b[49m\n\u001b[32m   2721\u001b[39m \u001b[43m    \u001b[49m\u001b[43mconfig\u001b[49m\u001b[43m,\u001b[49m\n\u001b[32m   2722\u001b[39m \u001b[43m    \u001b[49m\u001b[43mstream_mode\u001b[49m\u001b[43m=\u001b[49m\u001b[43mstream_mode\u001b[49m\u001b[43m,\u001b[49m\n\u001b[32m   2723\u001b[39m \u001b[43m    \u001b[49m\u001b[43moutput_keys\u001b[49m\u001b[43m=\u001b[49m\u001b[43moutput_keys\u001b[49m\u001b[43m,\u001b[49m\n\u001b[32m   2724\u001b[39m \u001b[43m    \u001b[49m\u001b[43minterrupt_before\u001b[49m\u001b[43m=\u001b[49m\u001b[43minterrupt_before\u001b[49m\u001b[43m,\u001b[49m\n\u001b[32m   2725\u001b[39m \u001b[43m    \u001b[49m\u001b[43minterrupt_after\u001b[49m\u001b[43m=\u001b[49m\u001b[43minterrupt_after\u001b[49m\u001b[43m,\u001b[49m\n\u001b[32m   2726\u001b[39m \u001b[43m    \u001b[49m\u001b[43mcheckpoint_during\u001b[49m\u001b[43m=\u001b[49m\u001b[43mcheckpoint_during\u001b[49m\u001b[43m,\u001b[49m\n\u001b[32m   2727\u001b[39m \u001b[43m    \u001b[49m\u001b[43mdebug\u001b[49m\u001b[43m=\u001b[49m\u001b[43mdebug\u001b[49m\u001b[43m,\u001b[49m\n\u001b[32m   2728\u001b[39m \u001b[43m    \u001b[49m\u001b[43m*\u001b[49m\u001b[43m*\u001b[49m\u001b[43mkwargs\u001b[49m\u001b[43m,\u001b[49m\n\u001b[32m   2729\u001b[39m \u001b[43m\u001b[49m\u001b[43m)\u001b[49m\u001b[43m:\u001b[49m\n\u001b[32m   2730\u001b[39m \u001b[43m    \u001b[49m\u001b[38;5;28;43;01mif\u001b[39;49;00m\u001b[43m \u001b[49m\u001b[43mstream_mode\u001b[49m\u001b[43m \u001b[49m\u001b[43m==\u001b[49m\u001b[43m \u001b[49m\u001b[33;43m\"\u001b[39;49m\u001b[33;43mvalues\u001b[39;49m\u001b[33;43m\"\u001b[39;49m\u001b[43m:\u001b[49m\n\u001b[32m   2731\u001b[39m \u001b[43m        \u001b[49m\u001b[38;5;28;43;01mif\u001b[39;49;00m\u001b[43m \u001b[49m\u001b[43m(\u001b[49m\n\u001b[32m   2732\u001b[39m \u001b[43m            \u001b[49m\u001b[38;5;28;43misinstance\u001b[39;49m\u001b[43m(\u001b[49m\u001b[43mchunk\u001b[49m\u001b[43m,\u001b[49m\u001b[43m \u001b[49m\u001b[38;5;28;43mdict\u001b[39;49m\u001b[43m)\u001b[49m\n\u001b[32m   2733\u001b[39m \u001b[43m            \u001b[49m\u001b[38;5;129;43;01mand\u001b[39;49;00m\u001b[43m \u001b[49m\u001b[43m(\u001b[49m\u001b[43mints\u001b[49m\u001b[43m \u001b[49m\u001b[43m:=\u001b[49m\u001b[43m \u001b[49m\u001b[43mchunk\u001b[49m\u001b[43m.\u001b[49m\u001b[43mget\u001b[49m\u001b[43m(\u001b[49m\u001b[43mINTERRUPT\u001b[49m\u001b[43m)\u001b[49m\u001b[43m)\u001b[49m\u001b[43m \u001b[49m\u001b[38;5;129;43;01mis\u001b[39;49;00m\u001b[43m \u001b[49m\u001b[38;5;129;43;01mnot\u001b[39;49;00m\u001b[43m \u001b[49m\u001b[38;5;28;43;01mNone\u001b[39;49;00m\n\u001b[32m   2734\u001b[39m \u001b[43m        \u001b[49m\u001b[43m)\u001b[49m\u001b[43m:\u001b[49m\n",
      "\u001b[36mFile \u001b[39m\u001b[32m~/Dev/CJBS-CHATBOT/venv/lib/python3.13/site-packages/langgraph/pregel/__init__.py:2436\u001b[39m, in \u001b[36mPregel.stream\u001b[39m\u001b[34m(self, input, config, stream_mode, output_keys, interrupt_before, interrupt_after, checkpoint_during, debug, subgraphs)\u001b[39m\n\u001b[32m   2434\u001b[39m         \u001b[38;5;28;01mfor\u001b[39;00m task \u001b[38;5;129;01min\u001b[39;00m loop.match_cached_writes():\n\u001b[32m   2435\u001b[39m             loop.output_writes(task.id, task.writes, cached=\u001b[38;5;28;01mTrue\u001b[39;00m)\n\u001b[32m-> \u001b[39m\u001b[32m2436\u001b[39m \u001b[43m        \u001b[49m\u001b[38;5;28;43;01mfor\u001b[39;49;00m\u001b[43m \u001b[49m\u001b[43m_\u001b[49m\u001b[43m \u001b[49m\u001b[38;5;129;43;01min\u001b[39;49;00m\u001b[43m \u001b[49m\u001b[43mrunner\u001b[49m\u001b[43m.\u001b[49m\u001b[43mtick\u001b[49m\u001b[43m(\u001b[49m\n\u001b[32m   2437\u001b[39m \u001b[43m            \u001b[49m\u001b[43m[\u001b[49m\u001b[43mt\u001b[49m\u001b[43m \u001b[49m\u001b[38;5;28;43;01mfor\u001b[39;49;00m\u001b[43m \u001b[49m\u001b[43mt\u001b[49m\u001b[43m \u001b[49m\u001b[38;5;129;43;01min\u001b[39;49;00m\u001b[43m \u001b[49m\u001b[43mloop\u001b[49m\u001b[43m.\u001b[49m\u001b[43mtasks\u001b[49m\u001b[43m.\u001b[49m\u001b[43mvalues\u001b[49m\u001b[43m(\u001b[49m\u001b[43m)\u001b[49m\u001b[43m \u001b[49m\u001b[38;5;28;43;01mif\u001b[39;49;00m\u001b[43m \u001b[49m\u001b[38;5;129;43;01mnot\u001b[39;49;00m\u001b[43m \u001b[49m\u001b[43mt\u001b[49m\u001b[43m.\u001b[49m\u001b[43mwrites\u001b[49m\u001b[43m]\u001b[49m\u001b[43m,\u001b[49m\n\u001b[32m   2438\u001b[39m \u001b[43m            \u001b[49m\u001b[43mtimeout\u001b[49m\u001b[43m=\u001b[49m\u001b[38;5;28;43mself\u001b[39;49m\u001b[43m.\u001b[49m\u001b[43mstep_timeout\u001b[49m\u001b[43m,\u001b[49m\n\u001b[32m   2439\u001b[39m \u001b[43m            \u001b[49m\u001b[43mget_waiter\u001b[49m\u001b[43m=\u001b[49m\u001b[43mget_waiter\u001b[49m\u001b[43m,\u001b[49m\n\u001b[32m   2440\u001b[39m \u001b[43m            \u001b[49m\u001b[43mschedule_task\u001b[49m\u001b[43m=\u001b[49m\u001b[43mloop\u001b[49m\u001b[43m.\u001b[49m\u001b[43maccept_push\u001b[49m\u001b[43m,\u001b[49m\n\u001b[32m   2441\u001b[39m \u001b[43m        \u001b[49m\u001b[43m)\u001b[49m\u001b[43m:\u001b[49m\n\u001b[32m   2442\u001b[39m \u001b[43m            \u001b[49m\u001b[38;5;66;43;03m# emit output\u001b[39;49;00m\n\u001b[32m   2443\u001b[39m \u001b[43m            \u001b[49m\u001b[38;5;28;43;01myield from\u001b[39;49;00m\u001b[43m \u001b[49m\u001b[43moutput\u001b[49m\u001b[43m(\u001b[49m\u001b[43m)\u001b[49m\n\u001b[32m   2444\u001b[39m \u001b[38;5;66;03m# emit output\u001b[39;00m\n",
      "\u001b[36mFile \u001b[39m\u001b[32m~/Dev/CJBS-CHATBOT/venv/lib/python3.13/site-packages/langgraph/pregel/write.py:99\u001b[39m, in \u001b[36mChannelWrite._write\u001b[39m\u001b[34m(self, input, config)\u001b[39m\n\u001b[32m     90\u001b[39m \u001b[38;5;28;01mdef\u001b[39;00m\u001b[38;5;250m \u001b[39m\u001b[34m_write\u001b[39m(\u001b[38;5;28mself\u001b[39m, \u001b[38;5;28minput\u001b[39m: Any, config: RunnableConfig) -> \u001b[38;5;28;01mNone\u001b[39;00m:\n\u001b[32m     91\u001b[39m     writes = [\n\u001b[32m     92\u001b[39m         ChannelWriteEntry(write.channel, \u001b[38;5;28minput\u001b[39m, write.skip_none, write.mapper)\n\u001b[32m     93\u001b[39m         \u001b[38;5;28;01mif\u001b[39;00m \u001b[38;5;28misinstance\u001b[39m(write, ChannelWriteEntry) \u001b[38;5;129;01mand\u001b[39;00m write.value \u001b[38;5;129;01mis\u001b[39;00m PASSTHROUGH\n\u001b[32m   (...)\u001b[39m\u001b[32m     97\u001b[39m         \u001b[38;5;28;01mfor\u001b[39;00m write \u001b[38;5;129;01min\u001b[39;00m \u001b[38;5;28mself\u001b[39m.writes\n\u001b[32m     98\u001b[39m     ]\n\u001b[32m---> \u001b[39m\u001b[32m99\u001b[39m     \u001b[38;5;28;43mself\u001b[39;49m\u001b[43m.\u001b[49m\u001b[43mdo_write\u001b[49m\u001b[43m(\u001b[49m\n\u001b[32m    100\u001b[39m \u001b[43m        \u001b[49m\u001b[43mconfig\u001b[49m\u001b[43m,\u001b[49m\n\u001b[32m    101\u001b[39m \u001b[43m        \u001b[49m\u001b[43mwrites\u001b[49m\u001b[43m,\u001b[49m\n\u001b[32m    102\u001b[39m \u001b[43m    \u001b[49m\u001b[43m)\u001b[49m\n\u001b[32m    103\u001b[39m     \u001b[38;5;28;01mreturn\u001b[39;00m \u001b[38;5;28minput\u001b[39m\n",
      "\u001b[36mFile \u001b[39m\u001b[32m~/Dev/CJBS-CHATBOT/venv/lib/python3.13/site-packages/langgraph/pregel/write.py:142\u001b[39m, in \u001b[36mChannelWrite.do_write\u001b[39m\u001b[34m(config, writes, allow_passthrough, require_at_least_one_of)\u001b[39m\n\u001b[32m    139\u001b[39m \u001b[38;5;66;03m# if we want to persist writes found before hitting a ParentCommand\u001b[39;00m\n\u001b[32m    140\u001b[39m \u001b[38;5;66;03m# can move this to a finally block\u001b[39;00m\n\u001b[32m    141\u001b[39m write: TYPE_SEND = config[CONF][CONFIG_KEY_SEND]\n\u001b[32m--> \u001b[39m\u001b[32m142\u001b[39m write(\u001b[43m_assemble_writes\u001b[49m\u001b[43m(\u001b[49m\u001b[43mwrites\u001b[49m\u001b[43m)\u001b[49m)\n",
      "\u001b[36mFile \u001b[39m\u001b[32m~/Dev/CJBS-CHATBOT/venv/lib/python3.13/site-packages/langgraph/pregel/write.py:199\u001b[39m, in \u001b[36m_assemble_writes\u001b[39m\u001b[34m(writes)\u001b[39m\n\u001b[32m    197\u001b[39m     tuples.append((TASKS, w))\n\u001b[32m    198\u001b[39m \u001b[38;5;28;01melif\u001b[39;00m \u001b[38;5;28misinstance\u001b[39m(w, ChannelWriteTupleEntry):\n\u001b[32m--> \u001b[39m\u001b[32m199\u001b[39m     \u001b[38;5;28;01mif\u001b[39;00m ww := \u001b[43mw\u001b[49m\u001b[43m.\u001b[49m\u001b[43mmapper\u001b[49m\u001b[43m(\u001b[49m\u001b[43mw\u001b[49m\u001b[43m.\u001b[49m\u001b[43mvalue\u001b[49m\u001b[43m)\u001b[49m:\n\u001b[32m    200\u001b[39m         tuples.extend(ww)\n\u001b[32m    201\u001b[39m \u001b[38;5;28;01melif\u001b[39;00m \u001b[38;5;28misinstance\u001b[39m(w, ChannelWriteEntry):\n",
      "\u001b[36mFile \u001b[39m\u001b[32m~/Dev/CJBS-CHATBOT/venv/lib/python3.13/site-packages/langgraph/graph/state.py:771\u001b[39m, in \u001b[36mCompiledStateGraph.attach_node.<locals>._get_updates\u001b[39m\u001b[34m(input)\u001b[39m\n\u001b[32m    766\u001b[39m \u001b[38;5;28;01melse\u001b[39;00m:\n\u001b[32m    767\u001b[39m     msg = create_error_message(\n\u001b[32m    768\u001b[39m         message=\u001b[33mf\u001b[39m\u001b[33m\"\u001b[39m\u001b[33mExpected dict, got \u001b[39m\u001b[38;5;132;01m{\u001b[39;00m\u001b[38;5;28minput\u001b[39m\u001b[38;5;132;01m}\u001b[39;00m\u001b[33m\"\u001b[39m,\n\u001b[32m    769\u001b[39m         error_code=ErrorCode.INVALID_GRAPH_NODE_RETURN_VALUE,\n\u001b[32m    770\u001b[39m     )\n\u001b[32m--> \u001b[39m\u001b[32m771\u001b[39m     \u001b[38;5;28;01mraise\u001b[39;00m InvalidUpdateError(msg)\n",
      "\u001b[31mInvalidUpdateError\u001b[39m: Expected dict, got <bound method Kernel.raw_input of <ipykernel.ipkernel.IPythonKernel object at 0x7776d402a660>>\nFor troubleshooting, visit: https://python.langchain.com/docs/troubleshooting/errors/INVALID_GRAPH_NODE_RETURN_VALUE",
      "During task with name '__start__' and id '02c36006-e5ad-1210-92af-cb813fe4dad7'"
     ]
    }
   ],
   "source": [
    "result=agent.invoke(input=input)"
   ]
  },
  {
   "cell_type": "code",
   "execution_count": 50,
   "metadata": {},
   "outputs": [
    {
     "name": "stdout",
     "output_type": "stream",
     "text": [
      "================================\u001b[1m System Message \u001b[0m================================\n",
      "\n",
      "\n",
      "You are a Satellite Data Extraction Agent that can use tools like web search to help you answer questions about satellite missions.\n",
      "\n",
      "Your job is to:\n",
      "1. Search for reliable information about a satellite mission using the available tools.\n",
      "2. Extract specific structured information from those results.\n",
      "3. Format your output strictly following the given schema.\n",
      "\n",
      "\n",
      "Tool Names:\n",
      "['google_serper_results_json', 'tavily_search_results_json']\n",
      "\n",
      "ALWAYS use the tools to find facts instead of guessing or relying on your own knowledge.\n",
      "\n",
      "Once you have all the information, respond in the exact structured JSON format.\n",
      "\n",
      "Use \"null\" if any field is missing or not found. Do not make up values.\n",
      "\n",
      "'VERY IMPORTANT TO REMEMBER:'\n",
      "You may only call one tool at a time. Do not call multiple tools in a single response.\n",
      "Always return valid JSON-formatted arguments for the tool input.\n",
      "When you receive search results from a tool, carefully analyze the data. Extract all the satellite mission information according to the given schema. Then, respond only with a valid JSON object following the exact format specified. Use \"null\" for missing fields. Do not include any explanation or extra text.\n",
      "\n",
      "================================\u001b[1m Human Message \u001b[0m=================================\n",
      "\n",
      "\n",
      "You are a Satellite Data Extraction Agent that can use tools like web search to help you answer questions about satellite missions.\n",
      "\n",
      "\n",
      "INSTRUCTIONS FOR EXTRACTING EACH FIELD:\n",
      "1. altitude: Extract the orbit altitude in kilometers (look for numbers with \"km\" or \"kilometers\").\n",
      "2. altitude_source_reference: Provide the URL where altitude was found.\n",
      "3. orbital_life_years: Find mission duration or orbital life in years (convert if needed).\n",
      "4. orbital_life_source_reference: Provide the URL where orbital life info was found.\n",
      "5. launch_orbit_classification: Identify orbit type (e.g., LEO, SSO, GTO).\n",
      "6. launch_orbit_source_reference: Provide the URL where orbit classification was found.\n",
      "7. number_of_payloads: Count payloads/instruments mentioned.\n",
      "8. number_of_payloads_source_reference: Provide the URL where payload count was found.\n",
      "\n",
      "Here are some examples of correct responses (following the format above):\n",
      "\n",
      "Example :\n",
      "Input: Chandrayaan-3\n",
      "OUTPUT:\n",
      "```json\n",
      "{\n",
      "    \"altitude\": \"170 x 36500 km\"\n",
      "    \"altitude_source_reference\": \"https://www.isro.gov.in/media_isro/pdf/Missions/LVM3/LVM3M4_Chandrayaan3_brochure.pdf\"\n",
      "    \"orbital_life_years\": \"3 to 6 months\"\n",
      "    \"orbital_life_source_reference\":\"https://www.isro.gov.in/media_isro/pdf/Missions/LVM3/LVM3M4_Chandrayaan3_brochure.pdf\"\n",
      "    \"launch_orbit_classification\": \"GTO\"\n",
      "    \"launch_orbit_source_reference\":\"https://www.isro.gov.in/Chandrayaan3_Details.html\"\n",
      "    \"number_of_payloads\": \"7\"\n",
      "    \"number_of_payloads_source_reference\":\"https://www.isro.gov.in/Chandrayaan3_Details.html\"\n",
      "}\n",
      "```\n",
      "\n",
      "Now, extract information for Aditya-L1 from the search results.\n",
      "IMPORTANT: \n",
      "1. Your response must follow the format instructions exactly\n",
      "2. Include the ```json and ``` markers\n",
      "3. Include the comments for each field\n",
      "4. Use string values for all fields, even numbers\n",
      "5. If any information is not found, use \"null\" as the value\n",
      "6. Follow the extraction instructions carefully for each field\n",
      "After the tool provides the search results, use those results to fill in the requested fields in the specified JSON format. Return only the JSON in your response.\n",
      "\n",
      "The output should be a markdown code snippet formatted in the following schema, including the leading and trailing \"```json\" and \"```\":\n",
      "\n",
      "```json\n",
      "{\n",
      "\t\"altitude\": string  // Satellite altitude in kilometers, look for values with 'km' or 'kilometers'.\n",
      "\t\"altitude_source_reference\": string  // Source URLs used to find the altitude.\n",
      "\t\"orbital_life_years\": string  // Orbital life or mission duration in years.\n",
      "\t\"orbital_life_source_reference\": string  // Source URLs used to find orbital life.\n",
      "\t\"launch_orbit_classification\": string  // Orbit classification such as GTO, LEO, or SSO.\n",
      "\t\"launch_orbit_source_reference\": string  // Source URLs used to find orbit classification.\n",
      "\t\"number_of_payloads\": string  // Count of payloads or instruments on the satellite.\n",
      "\t\"number_of_payloads_source_reference\": string  // Source URLs used to find number of payloads.\n",
      "}\n",
      "```\n",
      "\n",
      "\n",
      "==================================\u001b[1m Ai Message \u001b[0m==================================\n",
      "\n",
      "```json\n",
      "{\n",
      "  \"altitude\": \"Lagrange point 1 (L1)\",\n",
      "  \"altitude_source_reference\": \"https://www.isro.gov.in/aditya-l1-mission\",\n",
      "  \"orbital_life_years\": \"5 years\",\n",
      "  \"orbital_life_source_reference\": \"https://www.isro.gov.in/aditya-l1-mission\",\n",
      "  \"launch_orbit_classification\": \"Halo orbit around L1\",\n",
      "  \"launch_orbit_source_reference\": \"https://www.isro.gov.in/aditya-l1-mission\",\n",
      "  \"number_of_payloads\": \"7\",\n",
      "  \"number_of_payloads_source_reference\": \"https://www.isro.gov.in/aditya-l1-mission\"\n",
      "}\n",
      "```\n"
     ]
    }
   ],
   "source": [
    "for m in result[\"messages\"]:\n",
    "    m.pretty_print()"
   ]
  },
  {
   "cell_type": "code",
   "execution_count": null,
   "metadata": {},
   "outputs": [],
   "source": []
  },
  {
   "cell_type": "code",
   "execution_count": 47,
   "metadata": {},
   "outputs": [
    {
     "name": "stdout",
     "output_type": "stream",
     "text": [
      "```json\n",
      "{\n",
      "  \"altitude\": \"Lagrange point 1 (L1)\",\n",
      "  \"altitude_source_reference\": \"https://www.isro.gov.in/aditya-l1-mission\",\n",
      "  \"orbital_life_years\": \"5 years\",\n",
      "  \"orbital_life_source_reference\": \"https://www.isro.gov.in/aditya-l1-mission\",\n",
      "  \"launch_orbit_classification\": \"Halo orbit around L1\",\n",
      "  \"launch_orbit_source_reference\": \"https://www.isro.gov.in/aditya-l1-mission\",\n",
      "  \"number_of_payloads\": \"7\",\n",
      "  \"number_of_payloads_source_reference\": \"https://www.isro.gov.in/aditya-l1-mission\"\n",
      "}\n",
      "```\n"
     ]
    }
   ],
   "source": [
    "print(result[\"messages\"][-1].content)"
   ]
  },
  {
   "cell_type": "code",
   "execution_count": 49,
   "metadata": {},
   "outputs": [
    {
     "name": "stdout",
     "output_type": "stream",
     "text": [
      "{'agent': {'messages': [AIMessage(content='```json\\n{\\n  \"altitude\": \"Lagrange point 1 (L1)\",\\n  \"altitude_source_reference\": \"https://www.isro.gov.in/Aditya-L1-Mission\",\\n  \"orbital_life_years\": \"5 years\",\\n  \"orbital_life_source_reference\": \"https://www.isro.gov.in/Aditya-L1-Mission\",\\n  \"launch_orbit_classification\": \"Halo orbit around L1\",\\n  \"launch_orbit_source_reference\": \"https://www.isro.gov.in/Aditya-L1-Mission\",\\n  \"number_of_payloads\": \"7\",\\n  \"number_of_payloads_source_reference\": \"https://www.isro.gov.in/Aditya-L1-Mission\"\\n}\\n```', additional_kwargs={}, response_metadata={'prompt_feedback': {'block_reason': 0, 'safety_ratings': []}, 'finish_reason': 'STOP', 'model_name': 'gemini-1.5-flash', 'safety_ratings': []}, id='run--1340fac6-edf9-4c92-9eaf-3b193d1508b8-0', usage_metadata={'input_tokens': 1146, 'output_tokens': 191, 'total_tokens': 1337, 'input_token_details': {'cache_read': 0}})]}}\n",
      "\n",
      "\n"
     ]
    }
   ],
   "source": [
    "for chunk in agent.stream(\n",
    "    {\"messages\": [{\"role\": \"system\", \"content\": SYSTEM_PROMPT.format(tool_names=tool_names)},\n",
    "                  {\"role\":\"user\",\"content\":BASIC_MISSION_PROMPT.format(satellite_name=satellite_name,format_instructions=format_instructions)}]},\n",
    "    stream_mode=\"updates\"\n",
    "):\n",
    "    print(chunk)\n",
    "    print(\"\\n\")"
   ]
  },
  {
   "cell_type": "code",
   "execution_count": null,
   "metadata": {},
   "outputs": [],
   "source": []
  },
  {
   "cell_type": "code",
   "execution_count": 7,
   "metadata": {},
   "outputs": [],
   "source": [
    "from langchain.output_parsers import StructuredOutputParser,ResponseSchema"
   ]
  },
  {
   "cell_type": "code",
   "execution_count": 12,
   "metadata": {},
   "outputs": [],
   "source": [
    "output_parser = StructuredOutputParser.from_response_schemas(\n",
    "    [\n",
    "        ResponseSchema(\n",
    "            name=\"basic_satellite_data\", description=\"Extracts basic satellite data\", schema=BasicSatelliteData\n",
    "    )\n",
    "    ]\n",
    ")\n",
    "format_instructions = output_parser.get_format_instructions()\n"
   ]
  },
  {
   "cell_type": "code",
   "execution_count": 13,
   "metadata": {},
   "outputs": [
    {
     "data": {
      "text/plain": [
       "'The output should be a markdown code snippet formatted in the following schema, including the leading and trailing \"```json\" and \"```\":\\n\\n```json\\n{\\n\\t\"basic_satellite_data\": string  // Extracts basic satellite data\\n}\\n```'"
      ]
     },
     "execution_count": 13,
     "metadata": {},
     "output_type": "execute_result"
    }
   ],
   "source": [
    "format_instructions"
   ]
  },
  {
   "cell_type": "code",
   "execution_count": null,
   "metadata": {},
   "outputs": [],
   "source": []
  }
 ],
 "metadata": {
  "kernelspec": {
   "display_name": "Python 3",
   "language": "python",
   "name": "python3"
  },
  "language_info": {
   "codemirror_mode": {
    "name": "ipython",
    "version": 3
   },
   "file_extension": ".py",
   "mimetype": "text/x-python",
   "name": "python",
   "nbconvert_exporter": "python",
   "pygments_lexer": "ipython3",
   "version": "3.13.2"
  }
 },
 "nbformat": 4,
 "nbformat_minor": 2
}
